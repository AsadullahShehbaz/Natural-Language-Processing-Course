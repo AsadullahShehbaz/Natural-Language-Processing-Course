{
 "cells": [
  {
   "cell_type": "markdown",
   "id": "a0446026",
   "metadata": {},
   "source": [
    "# Word2Vec Technique\n",
    "\n",
    "11 April 2025 "
   ]
  },
  {
   "cell_type": "code",
   "execution_count": null,
   "id": "9d6fdb11",
   "metadata": {},
   "outputs": [],
   "source": []
  }
 ],
 "metadata": {
  "language_info": {
   "name": "python"
  }
 },
 "nbformat": 4,
 "nbformat_minor": 5
}
