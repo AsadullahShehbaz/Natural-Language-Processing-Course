{
 "cells": [
  {
   "cell_type": "markdown",
   "id": "9d242af2",
   "metadata": {},
   "source": [
    "# Lec 6 Text Classification/Feature Extraction\n"
   ]
  },
  {
   "cell_type": "code",
   "execution_count": null,
   "metadata": {},
   "outputs": [],
   "source": [
    "import numpy as np \n",
    "import pandas as pd"
   ]
  },
  {
   "cell_type": "code",
   "execution_count": null,
   "id": "c4c4f6a6",
   "metadata": {},
   "outputs": [],
   "source": [
    "temp_df = pd.read_csv(\"IMDB Dataset.csv\")"
   ]
  },
  {
   "cell_type": "markdown",
   "id": "cebf9555",
   "metadata": {},
   "source": [
    "## Select 10K rows out of 50K"
   ]
  },
  {
   "cell_type": "code",
   "execution_count": null,
   "id": "4a82a557",
   "metadata": {},
   "outputs": [],
   "source": [
    "df = temp_df.iloc[:10000]"
   ]
  },
  {
   "cell_type": "code",
   "execution_count": null,
   "id": "d8639567",
   "metadata": {},
   "outputs": [],
   "source": [
    "df.head()"
   ]
  },
  {
   "cell_type": "code",
   "execution_count": null,
   "id": "a9d92b17",
   "metadata": {},
   "outputs": [],
   "source": [
    "df['review'][1]"
   ]
  },
  {
   "cell_type": "markdown",
   "id": "5fc815c8",
   "metadata": {},
   "source": [
    "## Check Data Distribution/Normality of Data"
   ]
  },
  {
   "cell_type": "code",
   "execution_count": null,
   "id": "e9050c2a",
   "metadata": {},
   "outputs": [],
   "source": [
    "df['sentiment'].value_counts()"
   ]
  },
  {
   "cell_type": "markdown",
   "id": "535965f0",
   "metadata": {},
   "source": [
    "## Check Missing Values in Data "
   ]
  },
  {
   "cell_type": "code",
   "execution_count": null,
   "id": "ef28dada",
   "metadata": {},
   "outputs": [],
   "source": [
    "df.isnull().sum()"
   ]
  },
  {
   "cell_type": "markdown",
   "id": "12b7e847",
   "metadata": {},
   "source": [
    "## Check Duplicate Values in Data"
   ]
  },
  {
   "cell_type": "code",
   "execution_count": null,
   "id": "fd925be1",
   "metadata": {},
   "outputs": [],
   "source": [
    "df.duplicated().sum()"
   ]
  },
  {
   "cell_type": "markdown",
   "id": "0f76e899",
   "metadata": {},
   "source": [
    "## Remove Duplicate Values in Data"
   ]
  },
  {
   "cell_type": "code",
   "execution_count": null,
   "id": "cd2bbf11",
   "metadata": {},
   "outputs": [],
   "source": [
    "df.drop_duplicates(inplace=True)"
   ]
  },
  {
   "cell_type": "markdown",
   "id": "8bcc5d6b",
   "metadata": {},
   "source": [
    "# Basic Pre-processing"
   ]
  },
  {
   "cell_type": "markdown",
   "id": "04f573b7",
   "metadata": {},
   "source": [
    "## 1.Remove Tags "
   ]
  },
  {
   "cell_type": "code",
   "execution_count": null,
   "id": "e0a9d66c",
   "metadata": {},
   "outputs": [],
   "source": [
    "import re\n",
    "def remove_html_tags(text):\n",
    "    clean = re.compile('<.*?>')\n",
    "    return re.sub(clean,'',text)\n",
    "df['review'] = df['review'].apply(remove_html_tags)"
   ]
  },
  {
   "cell_type": "markdown",
   "id": "f322a793",
   "metadata": {},
   "source": [
    "## 2.Lowercasing "
   ]
  },
  {
   "cell_type": "code",
   "execution_count": null,
   "id": "a96beaf8",
   "metadata": {},
   "outputs": [],
   "source": [
    "df['review'] = df['review'].apply(lambda review: review.lower())"
   ]
  },
  {
   "cell_type": "markdown",
   "id": "a0f17e7a",
   "metadata": {},
   "source": [
    "## 3.Remove Stopwords "
   ]
  },
  {
   "cell_type": "code",
   "execution_count": null,
   "id": "349307f4",
   "metadata": {},
   "outputs": [],
   "source": [
    "from nltk.corpus import stopwords\n",
    "stopwords_list = stopwords.words('english')\n",
    "def remove_stopwords(text):\n",
    "    return ' '.join([word for word in text.split() if word not in stopwords_list])\n",
    "df['review'] = df['review'].apply(remove_stopwords)"
   ]
  },
  {
   "cell_type": "markdown",
   "id": "3a77dc0d",
   "metadata": {},
   "source": [
    "## Now transformation is completed and data is ready for ML "
   ]
  },
  {
   "cell_type": "markdown",
   "id": "eba9c137",
   "metadata": {},
   "source": [
    "# 1.Create X and Y "
   ]
  },
  {
   "cell_type": "code",
   "execution_count": null,
   "id": "afc6d6c8",
   "metadata": {},
   "outputs": [],
   "source": [
    "X = df.iloc[:,0:1]\n",
    "y = df['sentiment']"
   ]
  },
  {
   "cell_type": "markdown",
   "id": "60384367",
   "metadata": {},
   "source": [
    "# 2.Import LabelEncoder to Encode Categorical Data to Integer Data"
   ]
  },
  {
   "cell_type": "code",
   "execution_count": null,
   "id": "58b2394e",
   "metadata": {},
   "outputs": [],
   "source": [
    "from sklearn.preprocessing import LabelEncoder\n",
    "encoder = LabelEncoder()\n",
    "y = encoder.fit_transform(y) "
   ]
  },
  {
   "cell_type": "markdown",
   "id": "01fd4ac9",
   "metadata": {},
   "source": [
    "# 3.Import Train_Test_Split"
   ]
  },
  {
   "cell_type": "code",
   "execution_count": null,
   "id": "a30264a5",
   "metadata": {},
   "outputs": [],
   "source": [
    "from sklearn.model_selection import train_test_split\n",
    "X_train,X_test,y_train,y_test = train_test_split(X,y,random_state=1,test_size=0.2)"
   ]
  },
  {
   "cell_type": "code",
   "execution_count": null,
   "id": "dbf740f9",
   "metadata": {},
   "outputs": [],
   "source": [
    "X_train.shape"
   ]
  },
  {
   "cell_type": "markdown",
   "id": "01474b40",
   "metadata": {},
   "source": [
    "# 4.Import and Apply BOW "
   ]
  },
  {
   "cell_type": "code",
   "execution_count": null,
   "id": "527fc9ba",
   "metadata": {},
   "outputs": [],
   "source": [
    "from sklearn.feature_extraction.text import CountVectorizer\n",
    "model = CountVectorizer()\n",
    "# Train the model\n",
    "X_train_bow = model.fit_transform(X_train['review']).toarray()\n",
    "X_test_bow = model.fit_transform(X_test['review']).toarray()"
   ]
  },
  {
   "cell_type": "code",
   "execution_count": null,
   "id": "66b3f8e2",
   "metadata": {},
   "outputs": [],
   "source": [
    "X_train_bow.shape # check no. of features after applying bag of words"
   ]
  },
  {
   "cell_type": "markdown",
   "id": "a90d08f1",
   "metadata": {},
   "source": [
    "# 4.Import and Apply NGram "
   ]
  },
  {
   "cell_type": "code",
   "execution_count": null,
   "id": "fbc009c5",
   "metadata": {},
   "outputs": [],
   "source": [
    "from sklearn.feature_extraction.text import CountVectorizer\n",
    "model = CountVectorizer(ngram_range=(1,2)) # You can use ngram rather than bows , it will make bigram \n",
    "# Train the model\n",
    "X_train_bow = model.fit_transform(X_train['review']).toarray()\n",
    "X_test_bow = model.fit_transform(X_test['review']).toarray()"
   ]
  },
  {
   "cell_type": "markdown",
   "id": "3061ca3a",
   "metadata": {},
   "source": [
    "## Select Max-Feature Manually "
   ]
  },
  {
   "cell_type": "code",
   "execution_count": null,
   "id": "10a11978",
   "metadata": {},
   "outputs": [],
   "source": [
    "from sklearn.feature_extraction.text import CountVectorizer\n",
    "model = CountVectorizer(max_features=3000) # for high accuracy ,reduce feature size of bag of words \n",
    "# Train the model\n",
    "X_train_bow = model.fit_transform(X_train['review']).toarray()\n",
    "X_test_bow = model.fit_transform(X_test['review']).toarray()"
   ]
  },
  {
   "cell_type": "markdown",
   "id": "37e6afa5",
   "metadata": {},
   "source": [
    "# 5.Import and Apply Gaussian NB"
   ]
  },
  {
   "cell_type": "code",
   "execution_count": null,
   "id": "bda4dadb",
   "metadata": {},
   "outputs": [],
   "source": [
    "from sklearn.naive_bayes import GaussianNB\n",
    "model_gnb = GaussianNB()\n",
    "# Train the model\n",
    "model_gnb.fit(X_train_bow,y_train)"
   ]
  },
  {
   "cell_type": "code",
   "execution_count": null,
   "id": "cf4d0d8b",
   "metadata": {},
   "outputs": [],
   "source": [
    "y_pred = model_gnb.predict(X_test_bow) # Predict Unknown "
   ]
  },
  {
   "cell_type": "markdown",
   "id": "2b55e7c0",
   "metadata": {},
   "source": [
    "# 6.Check Accuracy of Model "
   ]
  },
  {
   "cell_type": "code",
   "execution_count": null,
   "id": "2ae9c7ca",
   "metadata": {},
   "outputs": [],
   "source": [
    "from sklearn.metrics import accuracy_score,confusion_matrix\n",
    "accuracy_score(y_test,y_pred)\n",
    "# hyper-parameter tuning can much increase accuracy level "
   ]
  },
  {
   "cell_type": "code",
   "execution_count": null,
   "id": "89149487",
   "metadata": {},
   "outputs": [],
   "source": [
    "confusion_matrix(y_test,y_pred)"
   ]
  },
  {
   "cell_type": "markdown",
   "id": "f074c64c",
   "metadata": {},
   "source": [
    "# By Random Forest Classifier Algorithm"
   ]
  },
  {
   "cell_type": "code",
   "execution_count": null,
   "id": "c80bbf9e",
   "metadata": {},
   "outputs": [],
   "source": [
    "from sklearn.ensemble import RandomForestClassifier\n",
    "rf = RandomForestClassifier()\n",
    "# Train the model\n",
    "rf.fit(X_train_bow,y_train)"
   ]
  },
  {
   "cell_type": "code",
   "execution_count": null,
   "id": "756a78c6",
   "metadata": {},
   "outputs": [],
   "source": [
    "y_pred = rf.predict(X_test_bow) # Predict Unknown \n",
    "accuracy_score(y_test,y_pred)"
   ]
  },
  {
   "cell_type": "markdown",
   "id": "c72e50ad",
   "metadata": {},
   "source": [
    "# 4.Using TF-IDF \n",
    "## It is used to make information-retreival systems"
   ]
  },
  {
   "cell_type": "code",
   "execution_count": 48,
   "id": "0dafd31f",
   "metadata": {},
   "outputs": [
    {
     "ename": "AttributeError",
     "evalue": "'TfidfVectorizer' object has no attribute 'toarray'",
     "output_type": "error",
     "traceback": [
      "\u001b[1;31m---------------------------------------------------------------------------\u001b[0m",
      "\u001b[1;31mAttributeError\u001b[0m                            Traceback (most recent call last)",
      "Cell \u001b[1;32mIn[48], line 6\u001b[0m\n\u001b[0;32m      4\u001b[0m \u001b[38;5;66;03m# Train the model\u001b[39;00m\n\u001b[0;32m      5\u001b[0m X_train_tfidf \u001b[38;5;241m=\u001b[39m Tfidf\u001b[38;5;241m.\u001b[39mfit_transform(X_train[\u001b[38;5;124m'\u001b[39m\u001b[38;5;124mreview\u001b[39m\u001b[38;5;124m'\u001b[39m])\u001b[38;5;241m.\u001b[39mtoarray()\n\u001b[1;32m----> 6\u001b[0m X_test_tfidf \u001b[38;5;241m=\u001b[39m \u001b[43mTfidf\u001b[49m\u001b[38;5;241;43m.\u001b[39;49m\u001b[43mfit\u001b[49m\u001b[43m(\u001b[49m\u001b[43mX_test\u001b[49m\u001b[43m[\u001b[49m\u001b[38;5;124;43m'\u001b[39;49m\u001b[38;5;124;43mreview\u001b[39;49m\u001b[38;5;124;43m'\u001b[39;49m\u001b[43m]\u001b[49m\u001b[43m)\u001b[49m\u001b[38;5;241;43m.\u001b[39;49m\u001b[43mtoarray\u001b[49m()\n\u001b[0;32m      8\u001b[0m rf \u001b[38;5;241m=\u001b[39m RandomForestClassifier()\n\u001b[0;32m      9\u001b[0m \u001b[38;5;66;03m# Train the model\u001b[39;00m\n",
      "\u001b[1;31mAttributeError\u001b[0m: 'TfidfVectorizer' object has no attribute 'toarray'"
     ]
    }
   ],
   "source": [
    "from sklearn.feature_extraction.text import TfidfVectorizer\n",
    "Tfidf = TfidfVectorizer()\n",
    "\n",
    "# Train the model\n",
    "X_train_tfidf = Tfidf.fit_transform(X_train['review']).toarray()\n",
    "X_test_tfidf = Tfidf.fit(X_test['review']).toarray()\n",
    "\n",
    "rf = RandomForestClassifier()\n",
    "# Train the model\n",
    "rf.fit(X_train_tfidf,y_train)\n",
    "# Predict Unknown \n",
    "y_pred = rf.pred(X_test_tfidf)\n",
    "accuracy_score(X_test,y_pred)"
   ]
  }
 ],
 "metadata": {
  "kernelspec": {
   "display_name": "python_ml",
   "language": "python",
   "name": "python3"
  },
  "language_info": {
   "codemirror_mode": {
    "name": "ipython",
    "version": 3
   },
   "file_extension": ".py",
   "mimetype": "text/x-python",
   "name": "python",
   "nbconvert_exporter": "python",
   "pygments_lexer": "ipython3",
   "version": "3.10.0"
  }
 },
 "nbformat": 4,
 "nbformat_minor": 5
}
